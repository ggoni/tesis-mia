{
 "cells": [
  {
   "cell_type": "markdown",
   "metadata": {},
   "source": [
    "# Modelo multinput"
   ]
  },
  {
   "cell_type": "markdown",
   "metadata": {},
   "source": [
    "## Modelamiento "
   ]
  },
  {
   "cell_type": "markdown",
   "metadata": {},
   "source": [
    "Como primer paso vamos a importar las bibliotecas necesarias"
   ]
  },
  {
   "cell_type": "code",
   "execution_count": 1,
   "metadata": {},
   "outputs": [],
   "source": [
    "from sklearn.preprocessing import LabelBinarizer,MinMaxScaler,LabelEncoder,OneHotEncoder\n",
    "from tensorflow.keras.models import Sequential\n",
    "from tensorflow.keras.layers import BatchNormalization\n",
    "from tensorflow.keras.layers import Conv2D\n",
    "from tensorflow.keras.layers import MaxPooling2D\n",
    "from tensorflow.keras.layers import GlobalAveragePooling2D\n",
    "from tensorflow.keras.layers import Activation\n",
    "from tensorflow.keras.layers import Dropout\n",
    "from tensorflow.keras.layers import Dense\n",
    "from tensorflow.keras.layers import Flatten\n",
    "from tensorflow.keras.layers import Input\n",
    "from tensorflow.keras.models import Model\n",
    "from tensorflow.keras.optimizers import Adam\n",
    "from tensorflow.keras.callbacks import EarlyStopping\n",
    "from tensorflow.keras.applications import MobileNetV2\n",
    "from sklearn.model_selection import train_test_split\n",
    "from sklearn.metrics import mean_absolute_error\n",
    "from tensorflow.keras.layers import concatenate\n",
    "import matplotlib.pyplot as plt\n",
    "import datetime\n",
    "import pandas as pd\n",
    "import numpy as np\n",
    "import argparse\n",
    "import locale\n",
    "import glob\n",
    "import cv2\n",
    "import os\n",
    "import shap"
   ]
  },
  {
   "cell_type": "markdown",
   "metadata": {},
   "source": [
    "Nuestro propósito es **corroborar (o descartar) que agregar las fotos de los choques de autos asegurados permite una estimación más exacta de los montos, respecto del caso base que sólo usa información tabular**.\n",
    "Para ello haremos uso de una red neuronal _multi input_."
   ]
  },
  {
   "cell_type": "markdown",
   "metadata": {},
   "source": [
    "Ya se hizo un trabajo detallado de exploración de los datos, el que se puede encontrar [acá](https://github.com/fedeos/Tesis-UAI/blob/master/EDA%20Tesis%20MIA.ipynb)."
   ]
  },
  {
   "cell_type": "code",
   "execution_count": 2,
   "metadata": {},
   "outputs": [],
   "source": [
    "df = pd.read_csv('train.csv')"
   ]
  },
  {
   "cell_type": "code",
   "execution_count": 3,
   "metadata": {},
   "outputs": [
    {
     "data": {
      "text/html": [
       "<div>\n",
       "<style scoped>\n",
       "    .dataframe tbody tr th:only-of-type {\n",
       "        vertical-align: middle;\n",
       "    }\n",
       "\n",
       "    .dataframe tbody tr th {\n",
       "        vertical-align: top;\n",
       "    }\n",
       "\n",
       "    .dataframe thead th {\n",
       "        text-align: right;\n",
       "    }\n",
       "</style>\n",
       "<table border=\"1\" class=\"dataframe\">\n",
       "  <thead>\n",
       "    <tr style=\"text-align: right;\">\n",
       "      <th></th>\n",
       "      <th>Image_path</th>\n",
       "      <th>Insurance_company</th>\n",
       "      <th>Cost_of_vehicle</th>\n",
       "      <th>Min_coverage</th>\n",
       "      <th>Expiry_date</th>\n",
       "      <th>Max_coverage</th>\n",
       "      <th>Condition</th>\n",
       "      <th>Amount</th>\n",
       "    </tr>\n",
       "  </thead>\n",
       "  <tbody>\n",
       "    <tr>\n",
       "      <th>0</th>\n",
       "      <td>img_4511041.jpg</td>\n",
       "      <td>C</td>\n",
       "      <td>50800.0</td>\n",
       "      <td>1270.0</td>\n",
       "      <td>2027-03-09</td>\n",
       "      <td>44233.68</td>\n",
       "      <td>0</td>\n",
       "      <td>0.0</td>\n",
       "    </tr>\n",
       "    <tr>\n",
       "      <th>1</th>\n",
       "      <td>img_4511041_180.jpg</td>\n",
       "      <td>C</td>\n",
       "      <td>50800.0</td>\n",
       "      <td>1270.0</td>\n",
       "      <td>2027-03-09</td>\n",
       "      <td>44233.68</td>\n",
       "      <td>0</td>\n",
       "      <td>0.0</td>\n",
       "    </tr>\n",
       "    <tr>\n",
       "      <th>2</th>\n",
       "      <td>img_4511041_270.jpg</td>\n",
       "      <td>C</td>\n",
       "      <td>50800.0</td>\n",
       "      <td>1270.0</td>\n",
       "      <td>2027-03-09</td>\n",
       "      <td>44233.68</td>\n",
       "      <td>0</td>\n",
       "      <td>0.0</td>\n",
       "    </tr>\n",
       "    <tr>\n",
       "      <th>3</th>\n",
       "      <td>img_4511041_90.jpg</td>\n",
       "      <td>C</td>\n",
       "      <td>50800.0</td>\n",
       "      <td>1270.0</td>\n",
       "      <td>2027-03-09</td>\n",
       "      <td>44233.68</td>\n",
       "      <td>0</td>\n",
       "      <td>0.0</td>\n",
       "    </tr>\n",
       "    <tr>\n",
       "      <th>4</th>\n",
       "      <td>img_4511208.jpg</td>\n",
       "      <td>A</td>\n",
       "      <td>32700.0</td>\n",
       "      <td>817.5</td>\n",
       "      <td>2026-05-30</td>\n",
       "      <td>28486.68</td>\n",
       "      <td>0</td>\n",
       "      <td>0.0</td>\n",
       "    </tr>\n",
       "  </tbody>\n",
       "</table>\n",
       "</div>"
      ],
      "text/plain": [
       "            Image_path Insurance_company  Cost_of_vehicle  Min_coverage  \\\n",
       "0      img_4511041.jpg                 C          50800.0        1270.0   \n",
       "1  img_4511041_180.jpg                 C          50800.0        1270.0   \n",
       "2  img_4511041_270.jpg                 C          50800.0        1270.0   \n",
       "3   img_4511041_90.jpg                 C          50800.0        1270.0   \n",
       "4      img_4511208.jpg                 A          32700.0         817.5   \n",
       "\n",
       "  Expiry_date  Max_coverage  Condition  Amount  \n",
       "0  2027-03-09      44233.68          0     0.0  \n",
       "1  2027-03-09      44233.68          0     0.0  \n",
       "2  2027-03-09      44233.68          0     0.0  \n",
       "3  2027-03-09      44233.68          0     0.0  \n",
       "4  2026-05-30      28486.68          0     0.0  "
      ]
     },
     "execution_count": 3,
     "metadata": {},
     "output_type": "execute_result"
    }
   ],
   "source": [
    "df.head()"
   ]
  },
  {
   "cell_type": "markdown",
   "metadata": {},
   "source": [
    "Nuestro propósito es contar con un modelo de regresión que relacione el daño (```Amount```) con el resto de las variables:\n",
    "- Modelo 1: Usando solo fotografías\n",
    "- Modelo 2: Usando fotografías y además las variables númericas y categóricas"
   ]
  },
  {
   "cell_type": "code",
   "execution_count": 4,
   "metadata": {},
   "outputs": [
    {
     "data": {
      "text/plain": [
       "Image_path            object\n",
       "Insurance_company     object\n",
       "Cost_of_vehicle      float64\n",
       "Min_coverage         float64\n",
       "Expiry_date           object\n",
       "Max_coverage         float64\n",
       "Condition              int64\n",
       "Amount               float64\n",
       "dtype: object"
      ]
     },
     "execution_count": 4,
     "metadata": {},
     "output_type": "execute_result"
    }
   ],
   "source": [
    "df.dtypes"
   ]
  },
  {
   "cell_type": "code",
   "execution_count": 5,
   "metadata": {},
   "outputs": [
    {
     "data": {
      "text/html": [
       "<div>\n",
       "<style scoped>\n",
       "    .dataframe tbody tr th:only-of-type {\n",
       "        vertical-align: middle;\n",
       "    }\n",
       "\n",
       "    .dataframe tbody tr th {\n",
       "        vertical-align: top;\n",
       "    }\n",
       "\n",
       "    .dataframe thead th {\n",
       "        text-align: right;\n",
       "    }\n",
       "</style>\n",
       "<table border=\"1\" class=\"dataframe\">\n",
       "  <thead>\n",
       "    <tr style=\"text-align: right;\">\n",
       "      <th></th>\n",
       "      <th>Cost_of_vehicle</th>\n",
       "      <th>Min_coverage</th>\n",
       "      <th>Max_coverage</th>\n",
       "      <th>Condition</th>\n",
       "      <th>Amount</th>\n",
       "    </tr>\n",
       "  </thead>\n",
       "  <tbody>\n",
       "    <tr>\n",
       "      <th>count</th>\n",
       "      <td>1601.000000</td>\n",
       "      <td>1601.000000</td>\n",
       "      <td>1601.000000</td>\n",
       "      <td>1696.000000</td>\n",
       "      <td>1685.000000</td>\n",
       "    </tr>\n",
       "    <tr>\n",
       "      <th>mean</th>\n",
       "      <td>37790.318551</td>\n",
       "      <td>944.757964</td>\n",
       "      <td>15421.337189</td>\n",
       "      <td>0.766509</td>\n",
       "      <td>3391.451632</td>\n",
       "    </tr>\n",
       "    <tr>\n",
       "      <th>std</th>\n",
       "      <td>8944.723303</td>\n",
       "      <td>223.618083</td>\n",
       "      <td>11468.101665</td>\n",
       "      <td>0.423176</td>\n",
       "      <td>3262.359910</td>\n",
       "    </tr>\n",
       "    <tr>\n",
       "      <th>min</th>\n",
       "      <td>11100.000000</td>\n",
       "      <td>277.500000</td>\n",
       "      <td>2853.000000</td>\n",
       "      <td>0.000000</td>\n",
       "      <td>-999.000000</td>\n",
       "    </tr>\n",
       "    <tr>\n",
       "      <th>25%</th>\n",
       "      <td>30100.000000</td>\n",
       "      <td>752.500000</td>\n",
       "      <td>7953.000000</td>\n",
       "      <td>1.000000</td>\n",
       "      <td>325.000000</td>\n",
       "    </tr>\n",
       "    <tr>\n",
       "      <th>50%</th>\n",
       "      <td>37900.000000</td>\n",
       "      <td>947.500000</td>\n",
       "      <td>10578.000000</td>\n",
       "      <td>1.000000</td>\n",
       "      <td>3363.000000</td>\n",
       "    </tr>\n",
       "    <tr>\n",
       "      <th>75%</th>\n",
       "      <td>45400.000000</td>\n",
       "      <td>1135.000000</td>\n",
       "      <td>13403.000000</td>\n",
       "      <td>1.000000</td>\n",
       "      <td>5599.000000</td>\n",
       "    </tr>\n",
       "    <tr>\n",
       "      <th>max</th>\n",
       "      <td>53500.000000</td>\n",
       "      <td>1337.500000</td>\n",
       "      <td>46495.680000</td>\n",
       "      <td>1.000000</td>\n",
       "      <td>59844.000000</td>\n",
       "    </tr>\n",
       "  </tbody>\n",
       "</table>\n",
       "</div>"
      ],
      "text/plain": [
       "       Cost_of_vehicle  Min_coverage  Max_coverage    Condition        Amount\n",
       "count      1601.000000   1601.000000   1601.000000  1696.000000   1685.000000\n",
       "mean      37790.318551    944.757964  15421.337189     0.766509   3391.451632\n",
       "std        8944.723303    223.618083  11468.101665     0.423176   3262.359910\n",
       "min       11100.000000    277.500000   2853.000000     0.000000   -999.000000\n",
       "25%       30100.000000    752.500000   7953.000000     1.000000    325.000000\n",
       "50%       37900.000000    947.500000  10578.000000     1.000000   3363.000000\n",
       "75%       45400.000000   1135.000000  13403.000000     1.000000   5599.000000\n",
       "max       53500.000000   1337.500000  46495.680000     1.000000  59844.000000"
      ]
     },
     "execution_count": 5,
     "metadata": {},
     "output_type": "execute_result"
    }
   ],
   "source": [
    "df.describe()"
   ]
  },
  {
   "cell_type": "code",
   "execution_count": 6,
   "metadata": {},
   "outputs": [
    {
     "data": {
      "image/png": "[encoded data removed]",
      "text/plain": [
       "<Figure size 432x288 with 1 Axes>"
      ]
     },
     "metadata": {
      "needs_background": "light"
     },
     "output_type": "display_data"
    }
   ],
   "source": [
    "(df['Min_coverage']/df['Cost_of_vehicle']).hist();"
   ]
  },
  {
   "cell_type": "code",
   "execution_count": 7,
   "metadata": {},
   "outputs": [
    {
     "data": {
      "text/plain": [
       "B     172\n",
       "BQ    167\n",
       "A     165\n",
       "AA    159\n",
       "C     155\n",
       "BB    154\n",
       "O     153\n",
       "DA    152\n",
       "BC    151\n",
       "AC    137\n",
       "RE    131\n",
       "Name: Insurance_company, dtype: int64"
      ]
     },
     "execution_count": 7,
     "metadata": {},
     "output_type": "execute_result"
    }
   ],
   "source": [
    "df['Insurance_company'].value_counts()"
   ]
  },
  {
   "cell_type": "markdown",
   "metadata": {},
   "source": [
    "Se debe hacer notar que:\n",
    "- La cobertura mínima es sistemáticamente el 25% del valor del automóvil, de modo que la variable no aporta información\n",
    "- Creemos Sería razonable suponer que tanto la máxima cobertura (```Max_coverage```)  como el monto del daño (```Amount```) sean expresados como proporción del costo del vehículo\n",
    "- Expresaremos ```Expiry_date```como días pendientes de cobertura a partir de una fecha nominal\n",
    "- Notar que las compañías de seguros son 11 distintas"
   ]
  },
  {
   "cell_type": "code",
   "execution_count": 8,
   "metadata": {},
   "outputs": [],
   "source": [
    "HOY = pd.to_datetime(datetime.date(2021,6,30)) # Fecha nominal para calcular los días de cobertura pendiente"
   ]
  },
  {
   "cell_type": "code",
   "execution_count": 9,
   "metadata": {},
   "outputs": [
    {
     "data": {
      "text/html": [
       "<div>\n",
       "<style scoped>\n",
       "    .dataframe tbody tr th:only-of-type {\n",
       "        vertical-align: middle;\n",
       "    }\n",
       "\n",
       "    .dataframe tbody tr th {\n",
       "        vertical-align: top;\n",
       "    }\n",
       "\n",
       "    .dataframe thead th {\n",
       "        text-align: right;\n",
       "    }\n",
       "</style>\n",
       "<table border=\"1\" class=\"dataframe\">\n",
       "  <thead>\n",
       "    <tr style=\"text-align: right;\">\n",
       "      <th></th>\n",
       "      <th>Image_path</th>\n",
       "      <th>Insurance_company</th>\n",
       "      <th>Cost_of_vehicle</th>\n",
       "      <th>Min_coverage</th>\n",
       "      <th>Expiry_date</th>\n",
       "      <th>Max_coverage</th>\n",
       "      <th>Condition</th>\n",
       "      <th>Amount</th>\n",
       "    </tr>\n",
       "  </thead>\n",
       "  <tbody>\n",
       "    <tr>\n",
       "      <th>0</th>\n",
       "      <td>img_4511041.jpg</td>\n",
       "      <td>C</td>\n",
       "      <td>50800.0</td>\n",
       "      <td>1270.0</td>\n",
       "      <td>2027-03-09</td>\n",
       "      <td>44233.68</td>\n",
       "      <td>0</td>\n",
       "      <td>0.0</td>\n",
       "    </tr>\n",
       "    <tr>\n",
       "      <th>1</th>\n",
       "      <td>img_4511041_180.jpg</td>\n",
       "      <td>C</td>\n",
       "      <td>50800.0</td>\n",
       "      <td>1270.0</td>\n",
       "      <td>2027-03-09</td>\n",
       "      <td>44233.68</td>\n",
       "      <td>0</td>\n",
       "      <td>0.0</td>\n",
       "    </tr>\n",
       "    <tr>\n",
       "      <th>2</th>\n",
       "      <td>img_4511041_270.jpg</td>\n",
       "      <td>C</td>\n",
       "      <td>50800.0</td>\n",
       "      <td>1270.0</td>\n",
       "      <td>2027-03-09</td>\n",
       "      <td>44233.68</td>\n",
       "      <td>0</td>\n",
       "      <td>0.0</td>\n",
       "    </tr>\n",
       "    <tr>\n",
       "      <th>3</th>\n",
       "      <td>img_4511041_90.jpg</td>\n",
       "      <td>C</td>\n",
       "      <td>50800.0</td>\n",
       "      <td>1270.0</td>\n",
       "      <td>2027-03-09</td>\n",
       "      <td>44233.68</td>\n",
       "      <td>0</td>\n",
       "      <td>0.0</td>\n",
       "    </tr>\n",
       "    <tr>\n",
       "      <th>4</th>\n",
       "      <td>img_4511208.jpg</td>\n",
       "      <td>A</td>\n",
       "      <td>32700.0</td>\n",
       "      <td>817.5</td>\n",
       "      <td>2026-05-30</td>\n",
       "      <td>28486.68</td>\n",
       "      <td>0</td>\n",
       "      <td>0.0</td>\n",
       "    </tr>\n",
       "  </tbody>\n",
       "</table>\n",
       "</div>"
      ],
      "text/plain": [
       "            Image_path Insurance_company  Cost_of_vehicle  Min_coverage  \\\n",
       "0      img_4511041.jpg                 C          50800.0        1270.0   \n",
       "1  img_4511041_180.jpg                 C          50800.0        1270.0   \n",
       "2  img_4511041_270.jpg                 C          50800.0        1270.0   \n",
       "3   img_4511041_90.jpg                 C          50800.0        1270.0   \n",
       "4      img_4511208.jpg                 A          32700.0         817.5   \n",
       "\n",
       "  Expiry_date  Max_coverage  Condition  Amount  \n",
       "0  2027-03-09      44233.68          0     0.0  \n",
       "1  2027-03-09      44233.68          0     0.0  \n",
       "2  2027-03-09      44233.68          0     0.0  \n",
       "3  2027-03-09      44233.68          0     0.0  \n",
       "4  2026-05-30      28486.68          0     0.0  "
      ]
     },
     "execution_count": 9,
     "metadata": {},
     "output_type": "execute_result"
    }
   ],
   "source": [
    "df.head()"
   ]
  },
  {
   "cell_type": "markdown",
   "metadata": {},
   "source": [
    "Generaremos una función ad hoc para contar con conjuntos de entrenamiento y evaluación.  El conjunto de prueba con que contamops no está etiquetado.\n",
    "Los comentarios pertinentes se agregan en el código de la función."
   ]
  },
  {
   "cell_type": "code",
   "execution_count": 10,
   "metadata": {},
   "outputs": [],
   "source": [
    "def preprocesa_atributos(input_path):\n",
    "    \n",
    "    '''\n",
    "    Dada la ruta a un archivo devuelve partición en conjuntos de entrenamiento y validación\n",
    "    \n",
    "    input: ruta a un archivo, el que debe contener en una el link a la foto.\n",
    "    output: Conjuntos de entrenamiento y Validación, además de pd.Series con ruta a las imágenes\n",
    "    \n",
    "    \n",
    "    '''\n",
    "    \n",
    "    df=pd.read_csv(input_path)\n",
    "    df.dropna(inplace=True)\n",
    "    df = df.drop(columns=['Condition']) # Queremos predecir el monto, por el momento no nos interesa\n",
    "    df = df[(df['Amount']<=df['Cost_of_vehicle'])] #Filtramos casos: Monto del daño no debiera ser > valor auto\n",
    "    \n",
    "    df['Expiry_date']=pd.to_datetime(df['Expiry_date'])\n",
    "    df['dias_pendientes_cobertura']=(df['Expiry_date']-HOY).dt.days.astype(int) #Permite contar días hasta fin cobertura\n",
    "    df['relative_amount'] = df['Amount']/df['Cost_of_vehicle'] #Se expresa en términos relativos\n",
    "    df['relative_max_cov'] = df['Max_coverage']/df['Cost_of_vehicle'] #Se expresa en términos relativos\n",
    "    \n",
    "    \n",
    "    df = df.drop(columns=['Min_coverage','Expiry_date','Max_coverage','Amount'])\n",
    "    \n",
    "    scaler = MinMaxScaler() #Vamos a escalar variables numéricas\n",
    "     \n",
    "    \n",
    "    X = df.drop(columns=['relative_amount'])\n",
    "    y = df['relative_amount']\n",
    "    \n",
    "    X_train,X_val,y_train,y_val = train_test_split(X, y, test_size=0.2, random_state=123)\n",
    "    \n",
    "    \n",
    "    X_train_num = X_train[['Cost_of_vehicle','dias_pendientes_cobertura']]\n",
    "    X_val_num = X_val[['Cost_of_vehicle','dias_pendientes_cobertura']]\n",
    "    \n",
    "    X_train_num_scaled = pd.DataFrame(scaler.fit_transform(X_train_num), \n",
    "                                      columns=X_train_num.columns,\n",
    "                                      index=X_train.index)\n",
    "    \n",
    "    X_val_num_scaled = pd.DataFrame(scaler.transform(X_val_num), \n",
    "                                      columns=X_val_num.columns,\n",
    "                                       index=X_val.index)\n",
    "    \n",
    "    lb = LabelBinarizer()# Codificaremos valores categóricos\n",
    "    \n",
    "    \n",
    "    X_train_encoded = pd.DataFrame(lb.fit_transform(X_train['Insurance_company']),\n",
    "                                    columns=lb.classes_,\n",
    "                                   index=X_train.index)\n",
    "    \n",
    "    X_val_encoded = pd.DataFrame(lb.transform(X_val['Insurance_company']),\n",
    "                                    columns=lb.classes_,\n",
    "                                   index=X_val.index)\n",
    "    \n",
    "    \n",
    "    X_train_feat = pd.concat([X_train['relative_max_cov'],X_train_num_scaled,X_train_encoded],axis=1)\n",
    "    X_val_feat = pd.concat([X_val['relative_max_cov'],X_val_num_scaled,X_val_encoded],axis=1)\n",
    "    \n",
    "    X_train_im = X_train['Image_path']\n",
    "    X_val_im = X_val['Image_path']\n",
    "    \n",
    "    \n",
    "    return X_train_feat,X_train_im, X_val_feat,X_val_im,y_train,y_val\n",
    "    "
   ]
  },
  {
   "cell_type": "code",
   "execution_count": 11,
   "metadata": {},
   "outputs": [],
   "source": [
    "X_train_feat,X_train_im, X_val_feat,X_val_im,y_train,y_val = preprocesa_atributos('train.csv')"
   ]
  },
  {
   "cell_type": "markdown",
   "metadata": {},
   "source": [
    "Dejo esta parte por si quisiera inspeccionar imágenes"
   ]
  },
  {
   "cell_type": "code",
   "execution_count": 12,
   "metadata": {},
   "outputs": [
    {
     "data": {
      "text/html": [
       "<div>\n",
       "<style scoped>\n",
       "    .dataframe tbody tr th:only-of-type {\n",
       "        vertical-align: middle;\n",
       "    }\n",
       "\n",
       "    .dataframe tbody tr th {\n",
       "        vertical-align: top;\n",
       "    }\n",
       "\n",
       "    .dataframe thead th {\n",
       "        text-align: right;\n",
       "    }\n",
       "</style>\n",
       "<table border=\"1\" class=\"dataframe\">\n",
       "  <thead>\n",
       "    <tr style=\"text-align: right;\">\n",
       "      <th></th>\n",
       "      <th>relative_max_cov</th>\n",
       "      <th>Cost_of_vehicle</th>\n",
       "      <th>dias_pendientes_cobertura</th>\n",
       "      <th>A</th>\n",
       "      <th>AA</th>\n",
       "      <th>AC</th>\n",
       "      <th>B</th>\n",
       "      <th>BB</th>\n",
       "      <th>BC</th>\n",
       "      <th>BQ</th>\n",
       "      <th>C</th>\n",
       "      <th>DA</th>\n",
       "      <th>O</th>\n",
       "      <th>RE</th>\n",
       "      <th>relative_amount</th>\n",
       "    </tr>\n",
       "  </thead>\n",
       "  <tbody>\n",
       "    <tr>\n",
       "      <th>198</th>\n",
       "      <td>0.252566</td>\n",
       "      <td>0.400000</td>\n",
       "      <td>0.014171</td>\n",
       "      <td>1</td>\n",
       "      <td>0</td>\n",
       "      <td>0</td>\n",
       "      <td>0</td>\n",
       "      <td>0</td>\n",
       "      <td>0</td>\n",
       "      <td>0</td>\n",
       "      <td>0</td>\n",
       "      <td>0</td>\n",
       "      <td>0</td>\n",
       "      <td>0</td>\n",
       "      <td>0.118158</td>\n",
       "    </tr>\n",
       "    <tr>\n",
       "      <th>1256</th>\n",
       "      <td>0.252532</td>\n",
       "      <td>0.410390</td>\n",
       "      <td>0.579854</td>\n",
       "      <td>0</td>\n",
       "      <td>0</td>\n",
       "      <td>1</td>\n",
       "      <td>0</td>\n",
       "      <td>0</td>\n",
       "      <td>0</td>\n",
       "      <td>0</td>\n",
       "      <td>0</td>\n",
       "      <td>0</td>\n",
       "      <td>0</td>\n",
       "      <td>0</td>\n",
       "      <td>0.014286</td>\n",
       "    </tr>\n",
       "    <tr>\n",
       "      <th>968</th>\n",
       "      <td>0.252005</td>\n",
       "      <td>0.620779</td>\n",
       "      <td>0.140942</td>\n",
       "      <td>1</td>\n",
       "      <td>0</td>\n",
       "      <td>0</td>\n",
       "      <td>0</td>\n",
       "      <td>0</td>\n",
       "      <td>0</td>\n",
       "      <td>0</td>\n",
       "      <td>0</td>\n",
       "      <td>0</td>\n",
       "      <td>0</td>\n",
       "      <td>0</td>\n",
       "      <td>0.089357</td>\n",
       "    </tr>\n",
       "    <tr>\n",
       "      <th>299</th>\n",
       "      <td>0.251477</td>\n",
       "      <td>0.981818</td>\n",
       "      <td>0.821907</td>\n",
       "      <td>0</td>\n",
       "      <td>0</td>\n",
       "      <td>0</td>\n",
       "      <td>0</td>\n",
       "      <td>0</td>\n",
       "      <td>0</td>\n",
       "      <td>0</td>\n",
       "      <td>1</td>\n",
       "      <td>0</td>\n",
       "      <td>0</td>\n",
       "      <td>0</td>\n",
       "      <td>0.009091</td>\n",
       "    </tr>\n",
       "    <tr>\n",
       "      <th>1000</th>\n",
       "      <td>0.252600</td>\n",
       "      <td>0.389610</td>\n",
       "      <td>0.592110</td>\n",
       "      <td>0</td>\n",
       "      <td>0</td>\n",
       "      <td>0</td>\n",
       "      <td>0</td>\n",
       "      <td>0</td>\n",
       "      <td>0</td>\n",
       "      <td>0</td>\n",
       "      <td>0</td>\n",
       "      <td>0</td>\n",
       "      <td>1</td>\n",
       "      <td>0</td>\n",
       "      <td>0.137367</td>\n",
       "    </tr>\n",
       "  </tbody>\n",
       "</table>\n",
       "</div>"
      ],
      "text/plain": [
       "      relative_max_cov  Cost_of_vehicle  dias_pendientes_cobertura  A  AA  AC  \\\n",
       "198           0.252566         0.400000                   0.014171  1   0   0   \n",
       "1256          0.252532         0.410390                   0.579854  0   0   1   \n",
       "968           0.252005         0.620779                   0.140942  1   0   0   \n",
       "299           0.251477         0.981818                   0.821907  0   0   0   \n",
       "1000          0.252600         0.389610                   0.592110  0   0   0   \n",
       "\n",
       "      B  BB  BC  BQ  C  DA  O  RE  relative_amount  \n",
       "198   0   0   0   0  0   0  0   0         0.118158  \n",
       "1256  0   0   0   0  0   0  0   0         0.014286  \n",
       "968   0   0   0   0  0   0  0   0         0.089357  \n",
       "299   0   0   0   0  1   0  0   0         0.009091  \n",
       "1000  0   0   0   0  0   0  1   0         0.137367  "
      ]
     },
     "execution_count": 12,
     "metadata": {},
     "output_type": "execute_result"
    }
   ],
   "source": [
    "pd.concat([X_train_feat,y_train],axis=1).head()"
   ]
  },
  {
   "cell_type": "code",
   "execution_count": 13,
   "metadata": {},
   "outputs": [
    {
     "data": {
      "text/plain": [
       "\"\\ni=1 \\n\\nfor indice in X_train_im.index:\\n\\n    img = cv2.imread('trainImages/'+X_train_im[indice])\\n    trans_img = cv2.cvtColor(img, cv2.COLOR_BGR2RGB)\\n\\n    plt.imshow(trans_img)\\n    plt.title('foto '+str(i)+':'+str(y_train[indice]))\\n    plt.show()\\n    i+=1\\n\""
      ]
     },
     "execution_count": 13,
     "metadata": {},
     "output_type": "execute_result"
    }
   ],
   "source": [
    "'''\n",
    "i=1 \n",
    "\n",
    "for indice in X_train_im.index:\n",
    "\n",
    "    img = cv2.imread('trainImages/'+X_train_im[indice])\n",
    "    trans_img = cv2.cvtColor(img, cv2.COLOR_BGR2RGB)\n",
    "\n",
    "    plt.imshow(trans_img)\n",
    "    plt.title('foto '+str(i)+':'+str(y_train[indice]))\n",
    "    plt.show()\n",
    "    i+=1\n",
    "'''"
   ]
  },
  {
   "cell_type": "markdown",
   "metadata": {},
   "source": [
    "Debemos cargar las imágenes, como arreglos de numpy."
   ]
  },
  {
   "cell_type": "code",
   "execution_count": 14,
   "metadata": {},
   "outputs": [],
   "source": [
    "def carga_imagenes(serie_fotos, inputPath):\n",
    "    \n",
    "    nuevas_imagenes = []\n",
    "    for foto in serie_fotos:\n",
    "        imagen = cv2.imread(inputPath+'/'+foto)\n",
    "        imagen = cv2.resize(imagen,(64, 64)) #Dejo todas las fotos en 64 x 64\n",
    "        nuevas_imagenes.append(imagen)\n",
    "    return np.array(nuevas_imagenes)/255.0 # Normalizo a factor de 1"
   ]
  },
  {
   "cell_type": "markdown",
   "metadata": {},
   "source": [
    "Vamos a crear cada modelo por separado"
   ]
  },
  {
   "cell_type": "markdown",
   "metadata": {},
   "source": [
    "Creamos un generador para modelos que solo usen datos tabulares"
   ]
  },
  {
   "cell_type": "code",
   "execution_count": 15,
   "metadata": {},
   "outputs": [],
   "source": [
    "def create_mlp(dim, regress=True):\n",
    "    # Perceptron multicapas muy simple para Redes neuronales\n",
    "    model = Sequential()\n",
    "    model.add(Dense(8, input_dim=dim, activation=\"relu\"))\n",
    "    model.add(Dense(1, activation=\"relu\"))\n",
    "\n",
    "    # ¿Hay nodo de regresión?\n",
    "    if regress:\n",
    "        model.add(Dense(1, activation=\"linear\"))\n",
    "\n",
    "    # Devuelve un modelo\n",
    "    return model"
   ]
  },
  {
   "cell_type": "markdown",
   "metadata": {},
   "source": [
    "Creamos un generador para modelos que solo use imágenes"
   ]
  },
  {
   "cell_type": "code",
   "execution_count": 16,
   "metadata": {},
   "outputs": [],
   "source": [
    "def create_cnn(width, height, depth, filters=(16, 32, 64), regress=True):\n",
    "# Ojo: hay que cambiar orden de las dimensiones\n",
    "\n",
    "    inputShape = (height, width, depth)\n",
    "    chanDim = -1\n",
    "\n",
    "    # Definir input del modelos\n",
    "    inputs = Input(shape=inputShape)\n",
    "\n",
    "    # Loop para cada uno de los filtros\n",
    "    for (i, f) in enumerate(filters):\n",
    "    # Ojo con capas de convolución\n",
    "        if i == 0:\n",
    "            x = inputs\n",
    "\n",
    "    # CONV => RELU => BN => POOL\n",
    "    x = Conv2D(f, (3, 3), padding=\"same\")(x)\n",
    "    x = Activation(\"relu\")(x)\n",
    "    x = BatchNormalization(axis=chanDim)(x)\n",
    "    x = MaxPooling2D(pool_size=(2, 2))(x)\n",
    "\n",
    "    # Aplanar nuevamente, luego FC => RELU => BN => DROPOUT\n",
    "    x = Flatten()(x)\n",
    "    x = Dense(32)(x)\n",
    "    x = Dense(8)(x)\n",
    "    x = Activation(\"relu\")(x)\n",
    "    x = BatchNormalization(axis=chanDim)(x)\n",
    "    x = Dropout(0.5)(x)\n",
    "\n",
    "    # Aplicar al final\n",
    "    x = Dense(1)(x)\n",
    "    x = Activation(\"relu\")(x)\n",
    "\n",
    "    # ¿Hay nodo de regresión?\n",
    "    if regress:\n",
    "        x = Dense(1, activation=\"linear\")(x)\n",
    "\n",
    "    # construct the CNN\n",
    "    model = Model(inputs, x)\n",
    "\n",
    "    # return the CNN\n",
    "    return model"
   ]
  },
  {
   "cell_type": "code",
   "execution_count": 17,
   "metadata": {},
   "outputs": [],
   "source": [
    "imagenes_train = carga_imagenes(X_train_im,'trainResizedImages')\n",
    "imagenes_val = carga_imagenes(X_val_im,'trainResizedImages')"
   ]
  },
  {
   "cell_type": "code",
   "execution_count": 18,
   "metadata": {},
   "outputs": [],
   "source": [
    "mlp = create_mlp(X_train_feat.shape[1])"
   ]
  },
  {
   "cell_type": "code",
   "execution_count": 19,
   "metadata": {},
   "outputs": [
    {
     "name": "stdout",
     "output_type": "stream",
     "text": [
      "Model: \"sequential\"\n",
      "_________________________________________________________________\n",
      "Layer (type)                 Output Shape              Param #   \n",
      "=================================================================\n",
      "dense (Dense)                (None, 8)                 120       \n",
      "_________________________________________________________________\n",
      "dense_1 (Dense)              (None, 1)                 9         \n",
      "_________________________________________________________________\n",
      "dense_2 (Dense)              (None, 1)                 2         \n",
      "=================================================================\n",
      "Total params: 131\n",
      "Trainable params: 131\n",
      "Non-trainable params: 0\n",
      "_________________________________________________________________\n"
     ]
    }
   ],
   "source": [
    "mlp.summary()"
   ]
  },
  {
   "cell_type": "code",
   "execution_count": 20,
   "metadata": {},
   "outputs": [],
   "source": [
    "cnn = create_cnn(64, 64, 3)"
   ]
  },
  {
   "cell_type": "code",
   "execution_count": 21,
   "metadata": {},
   "outputs": [
    {
     "name": "stdout",
     "output_type": "stream",
     "text": [
      "Model: \"model\"\n",
      "_________________________________________________________________\n",
      "Layer (type)                 Output Shape              Param #   \n",
      "=================================================================\n",
      "input_1 (InputLayer)         [(None, 64, 64, 3)]       0         \n",
      "_________________________________________________________________\n",
      "conv2d (Conv2D)              (None, 64, 64, 64)        1792      \n",
      "_________________________________________________________________\n",
      "activation (Activation)      (None, 64, 64, 64)        0         \n",
      "_________________________________________________________________\n",
      "batch_normalization (BatchNo (None, 64, 64, 64)        256       \n",
      "_________________________________________________________________\n",
      "max_pooling2d (MaxPooling2D) (None, 32, 32, 64)        0         \n",
      "_________________________________________________________________\n",
      "flatten (Flatten)            (None, 65536)             0         \n",
      "_________________________________________________________________\n",
      "dense_3 (Dense)              (None, 32)                2097184   \n",
      "_________________________________________________________________\n",
      "dense_4 (Dense)              (None, 8)                 264       \n",
      "_________________________________________________________________\n",
      "activation_1 (Activation)    (None, 8)                 0         \n",
      "_________________________________________________________________\n",
      "batch_normalization_1 (Batch (None, 8)                 32        \n",
      "_________________________________________________________________\n",
      "dropout (Dropout)            (None, 8)                 0         \n",
      "_________________________________________________________________\n",
      "dense_5 (Dense)              (None, 1)                 9         \n",
      "_________________________________________________________________\n",
      "activation_2 (Activation)    (None, 1)                 0         \n",
      "_________________________________________________________________\n",
      "dense_6 (Dense)              (None, 1)                 2         \n",
      "=================================================================\n",
      "Total params: 2,099,539\n",
      "Trainable params: 2,099,395\n",
      "Non-trainable params: 144\n",
      "_________________________________________________________________\n"
     ]
    }
   ],
   "source": [
    "cnn.summary()"
   ]
  },
  {
   "cell_type": "markdown",
   "metadata": {},
   "source": [
    "## Entrenamiento de modelos"
   ]
  },
  {
   "cell_type": "markdown",
   "metadata": {},
   "source": [
    "Para contar con una línea base, vamos a entrenar un modelo que solo usa los _features_ categóricos. Elegimos ```Random Forest```."
   ]
  },
  {
   "cell_type": "code",
   "execution_count": 22,
   "metadata": {},
   "outputs": [],
   "source": [
    "from sklearn.ensemble import RandomForestRegressor"
   ]
  },
  {
   "cell_type": "code",
   "execution_count": 23,
   "metadata": {
    "scrolled": true
   },
   "outputs": [
    {
     "data": {
      "text/plain": [
       "RandomForestRegressor(random_state=777)"
      ]
     },
     "execution_count": 23,
     "metadata": {},
     "output_type": "execute_result"
    }
   ],
   "source": [
    "rfr = RandomForestRegressor(random_state = 777)\n",
    "rfr.fit(X_train_feat,y_train)"
   ]
  },
  {
   "cell_type": "code",
   "execution_count": 24,
   "metadata": {},
   "outputs": [],
   "source": [
    "y_pred_rfr = rfr.predict(X_val_feat)"
   ]
  },
  {
   "cell_type": "code",
   "execution_count": 25,
   "metadata": {
    "scrolled": true
   },
   "outputs": [
    {
     "data": {
      "text/plain": [
       "0.05213814076488492"
      ]
     },
     "execution_count": 25,
     "metadata": {},
     "output_type": "execute_result"
    }
   ],
   "source": [
    "error_promedio_rfr = mean_absolute_error(y_val,y_pred_rfr)\n",
    "error_promedio_rfr"
   ]
  },
  {
   "cell_type": "code",
   "execution_count": 26,
   "metadata": {},
   "outputs": [],
   "source": [
    "importancias_rf = pd.DataFrame(zip(X_train_feat.columns,rfr.feature_importances_),\n",
    "                               columns = ['nombre','importancia']).sort_values(by='importancia',ascending=False)"
   ]
  },
  {
   "cell_type": "markdown",
   "metadata": {},
   "source": [
    "En la siguiente tabla podemos obtener la importancia relativa de las variables"
   ]
  },
  {
   "cell_type": "code",
   "execution_count": 27,
   "metadata": {},
   "outputs": [
    {
     "data": {
      "text/html": [
       "<div>\n",
       "<style scoped>\n",
       "    .dataframe tbody tr th:only-of-type {\n",
       "        vertical-align: middle;\n",
       "    }\n",
       "\n",
       "    .dataframe tbody tr th {\n",
       "        vertical-align: top;\n",
       "    }\n",
       "\n",
       "    .dataframe thead th {\n",
       "        text-align: right;\n",
       "    }\n",
       "</style>\n",
       "<table border=\"1\" class=\"dataframe\">\n",
       "  <thead>\n",
       "    <tr style=\"text-align: right;\">\n",
       "      <th></th>\n",
       "      <th>nombre</th>\n",
       "      <th>importancia</th>\n",
       "    </tr>\n",
       "  </thead>\n",
       "  <tbody>\n",
       "    <tr>\n",
       "      <th>0</th>\n",
       "      <td>relative_max_cov</td>\n",
       "      <td>0.492418</td>\n",
       "    </tr>\n",
       "    <tr>\n",
       "      <th>2</th>\n",
       "      <td>dias_pendientes_cobertura</td>\n",
       "      <td>0.209415</td>\n",
       "    </tr>\n",
       "    <tr>\n",
       "      <th>1</th>\n",
       "      <td>Cost_of_vehicle</td>\n",
       "      <td>0.157764</td>\n",
       "    </tr>\n",
       "    <tr>\n",
       "      <th>6</th>\n",
       "      <td>B</td>\n",
       "      <td>0.015734</td>\n",
       "    </tr>\n",
       "    <tr>\n",
       "      <th>10</th>\n",
       "      <td>C</td>\n",
       "      <td>0.015314</td>\n",
       "    </tr>\n",
       "    <tr>\n",
       "      <th>8</th>\n",
       "      <td>BC</td>\n",
       "      <td>0.014422</td>\n",
       "    </tr>\n",
       "    <tr>\n",
       "      <th>7</th>\n",
       "      <td>BB</td>\n",
       "      <td>0.012717</td>\n",
       "    </tr>\n",
       "    <tr>\n",
       "      <th>11</th>\n",
       "      <td>DA</td>\n",
       "      <td>0.012648</td>\n",
       "    </tr>\n",
       "    <tr>\n",
       "      <th>4</th>\n",
       "      <td>AA</td>\n",
       "      <td>0.012506</td>\n",
       "    </tr>\n",
       "    <tr>\n",
       "      <th>3</th>\n",
       "      <td>A</td>\n",
       "      <td>0.012427</td>\n",
       "    </tr>\n",
       "    <tr>\n",
       "      <th>9</th>\n",
       "      <td>BQ</td>\n",
       "      <td>0.012419</td>\n",
       "    </tr>\n",
       "    <tr>\n",
       "      <th>5</th>\n",
       "      <td>AC</td>\n",
       "      <td>0.011569</td>\n",
       "    </tr>\n",
       "    <tr>\n",
       "      <th>12</th>\n",
       "      <td>O</td>\n",
       "      <td>0.011517</td>\n",
       "    </tr>\n",
       "    <tr>\n",
       "      <th>13</th>\n",
       "      <td>RE</td>\n",
       "      <td>0.009129</td>\n",
       "    </tr>\n",
       "  </tbody>\n",
       "</table>\n",
       "</div>"
      ],
      "text/plain": [
       "                       nombre  importancia\n",
       "0            relative_max_cov     0.492418\n",
       "2   dias_pendientes_cobertura     0.209415\n",
       "1             Cost_of_vehicle     0.157764\n",
       "6                           B     0.015734\n",
       "10                          C     0.015314\n",
       "8                          BC     0.014422\n",
       "7                          BB     0.012717\n",
       "11                         DA     0.012648\n",
       "4                          AA     0.012506\n",
       "3                           A     0.012427\n",
       "9                          BQ     0.012419\n",
       "5                          AC     0.011569\n",
       "12                          O     0.011517\n",
       "13                         RE     0.009129"
      ]
     },
     "execution_count": 27,
     "metadata": {},
     "output_type": "execute_result"
    }
   ],
   "source": [
    "importancias_rf"
   ]
  },
  {
   "cell_type": "markdown",
   "metadata": {},
   "source": [
    "Parece lógico esperar que el porcentaje de cobertura máxima del vehículo, los días pendientes y el costo del vehículo puedan inducir al tasador / evaluador. Revisaremos los [Shapley Values](https://towardsdatascience.com/explain-any-models-with-the-shap-values-use-the-kernelexplainer-79de9464897a). "
   ]
  },
  {
   "cell_type": "code",
   "execution_count": 28,
   "metadata": {},
   "outputs": [],
   "source": [
    "shap_values = shap.TreeExplainer(rfr).shap_values(X_train_feat)"
   ]
  },
  {
   "cell_type": "code",
   "execution_count": 29,
   "metadata": {},
   "outputs": [
    {
     "data": {
      "image/png": "[encoded data removed]",
      "text/plain": [
       "<Figure size 576x511.2 with 2 Axes>"
      ]
     },
     "metadata": {
      "needs_background": "light"
     },
     "output_type": "display_data"
    }
   ],
   "source": [
    "shap.summary_plot(shap_values,X_train_feat,alpha=0.2)"
   ]
  },
  {
   "cell_type": "markdown",
   "metadata": {},
   "source": [
    "Como paso siguiente, primero voy a entrenar el modelo que solamente contiene imágenes"
   ]
  },
  {
   "cell_type": "code",
   "execution_count": 30,
   "metadata": {},
   "outputs": [
    {
     "name": "stdout",
     "output_type": "stream",
     "text": [
      "[INFO] Entrenando modelo con imágenes...\n",
      "[2021-10-23 23:10:13.565 ip-172-16-61-129:23837 INFO utils.py:27] RULE_JOB_STOP_SIGNAL_FILENAME: None\n",
      "[2021-10-23 23:10:13.686 ip-172-16-61-129:23837 INFO profiler_config_parser.py:111] Unable to find config at /opt/ml/input/config/profilerconfig.json. Profiler is disabled.\n",
      "Train on 1272 samples, validate on 319 samples\n",
      "Epoch 1/500\n",
      "1272/1272 [==============================] - 5s 4ms/sample - loss: 1.1342 - val_loss: 0.2309\n",
      "Epoch 2/500\n",
      "1272/1272 [==============================] - 2s 2ms/sample - loss: 0.7465 - val_loss: 0.1215\n",
      "Epoch 3/500\n",
      "1272/1272 [==============================] - 2s 2ms/sample - loss: 0.5594 - val_loss: 0.1331\n",
      "Epoch 4/500\n",
      "1272/1272 [==============================] - 2s 2ms/sample - loss: 0.5174 - val_loss: 0.0878\n",
      "Epoch 5/500\n",
      "1272/1272 [==============================] - 2s 2ms/sample - loss: 0.4361 - val_loss: 0.0833\n",
      "Epoch 6/500\n",
      "1272/1272 [==============================] - 2s 2ms/sample - loss: 0.4027 - val_loss: 0.0811\n",
      "Epoch 7/500\n",
      "1272/1272 [==============================] - 2s 2ms/sample - loss: 0.3470 - val_loss: 0.0803\n",
      "Epoch 8/500\n",
      "1272/1272 [==============================] - 2s 2ms/sample - loss: 0.3461 - val_loss: 0.0806\n",
      "Epoch 9/500\n",
      "1272/1272 [==============================] - 2s 2ms/sample - loss: 0.3912 - val_loss: 0.0807\n",
      "Epoch 10/500\n",
      "1272/1272 [==============================] - 2s 2ms/sample - loss: 0.3158 - val_loss: 0.0855\n",
      "Epoch 11/500\n",
      "1272/1272 [==============================] - 2s 2ms/sample - loss: 0.2978 - val_loss: 0.0825\n",
      "Epoch 12/500\n",
      "1272/1272 [==============================] - 2s 2ms/sample - loss: 0.3038 - val_loss: 0.0821\n",
      "Epoch 13/500\n",
      "1272/1272 [==============================] - 2s 2ms/sample - loss: 0.2710 - val_loss: 0.0800\n",
      "Epoch 14/500\n",
      "1272/1272 [==============================] - 2s 2ms/sample - loss: 0.2871 - val_loss: 0.0794\n",
      "Epoch 15/500\n",
      "1272/1272 [==============================] - 2s 2ms/sample - loss: 0.2599 - val_loss: 0.0786\n",
      "Epoch 16/500\n",
      "1272/1272 [==============================] - 2s 2ms/sample - loss: 0.2464 - val_loss: 0.0782\n",
      "Epoch 17/500\n",
      "1272/1272 [==============================] - 2s 2ms/sample - loss: 0.2691 - val_loss: 0.0781\n",
      "Epoch 18/500\n",
      "1272/1272 [==============================] - 2s 2ms/sample - loss: 0.2486 - val_loss: 0.0778\n",
      "Epoch 19/500\n",
      "1272/1272 [==============================] - 2s 2ms/sample - loss: 0.2393 - val_loss: 0.0776\n",
      "Epoch 20/500\n",
      "1272/1272 [==============================] - 2s 2ms/sample - loss: 0.2579 - val_loss: 0.0774\n",
      "Epoch 21/500\n",
      "1272/1272 [==============================] - 2s 2ms/sample - loss: 0.2289 - val_loss: 0.0773\n",
      "Epoch 22/500\n",
      "1272/1272 [==============================] - 2s 2ms/sample - loss: 0.2273 - val_loss: 0.0771\n",
      "Epoch 23/500\n",
      "1272/1272 [==============================] - 2s 2ms/sample - loss: 0.2316 - val_loss: 0.0770\n",
      "Epoch 24/500\n",
      "1272/1272 [==============================] - 2s 2ms/sample - loss: 0.2246 - val_loss: 0.0769\n",
      "Epoch 25/500\n",
      "1272/1272 [==============================] - 2s 2ms/sample - loss: 0.2416 - val_loss: 0.0768\n",
      "Epoch 26/500\n",
      "1272/1272 [==============================] - 2s 2ms/sample - loss: 0.2458 - val_loss: 0.0769\n",
      "Epoch 27/500\n",
      "1272/1272 [==============================] - 2s 2ms/sample - loss: 0.2009 - val_loss: 0.0767\n",
      "Epoch 28/500\n",
      "1272/1272 [==============================] - 2s 2ms/sample - loss: 0.2271 - val_loss: 0.0766\n",
      "Epoch 29/500\n",
      "1272/1272 [==============================] - 2s 2ms/sample - loss: 0.2154 - val_loss: 0.0766\n",
      "Epoch 30/500\n",
      "1272/1272 [==============================] - 2s 2ms/sample - loss: 0.2185 - val_loss: 0.0766\n",
      "Epoch 31/500\n",
      "1272/1272 [==============================] - 2s 2ms/sample - loss: 0.2062 - val_loss: 0.0765\n",
      "Epoch 32/500\n",
      "1272/1272 [==============================] - 2s 2ms/sample - loss: 0.1887 - val_loss: 0.0764\n",
      "Epoch 33/500\n",
      "1272/1272 [==============================] - 2s 2ms/sample - loss: 0.1862 - val_loss: 0.0763\n",
      "Epoch 34/500\n",
      "1272/1272 [==============================] - 2s 2ms/sample - loss: 0.1857 - val_loss: 0.0761\n",
      "Epoch 35/500\n",
      "1272/1272 [==============================] - 2s 2ms/sample - loss: 0.1736 - val_loss: 0.0760\n",
      "Epoch 36/500\n",
      "1272/1272 [==============================] - 2s 2ms/sample - loss: 0.1856 - val_loss: 0.0759\n",
      "Epoch 37/500\n",
      "1272/1272 [==============================] - 2s 2ms/sample - loss: 0.1841 - val_loss: 0.0758\n",
      "Epoch 38/500\n",
      "1272/1272 [==============================] - 2s 2ms/sample - loss: 0.1985 - val_loss: 0.0758\n",
      "Epoch 39/500\n",
      "1272/1272 [==============================] - 2s 2ms/sample - loss: 0.1912 - val_loss: 0.0757\n",
      "Epoch 40/500\n",
      "1272/1272 [==============================] - 2s 2ms/sample - loss: 0.1755 - val_loss: 0.0756\n"
     ]
    }
   ],
   "source": [
    "modelo_imagenes = cnn\n",
    "\n",
    "opt = Adam(lr=1e-3,decay = 1e-2) # Hiperparametros\n",
    "callback = EarlyStopping(monitor='loss', patience=5) # No quiero gastar recursos innecesarios, con callback\n",
    "\n",
    "cnn.compile(loss=\"mae\", \n",
    "              optimizer=opt)\n",
    "\n",
    "print(\"[INFO] Entrenando modelo con imágenes...\")\n",
    "history_imagenes = cnn.fit(\n",
    "    x=imagenes_train, \n",
    "    y=y_train.values,\n",
    "    validation_data=(imagenes_val, y_val.values),\n",
    "    epochs=500, \n",
    "    batch_size=8,\n",
    "    callbacks = [callback])"
   ]
  },
  {
   "cell_type": "code",
   "execution_count": 31,
   "metadata": {},
   "outputs": [
    {
     "name": "stdout",
     "output_type": "stream",
     "text": [
      "dict_keys(['loss', 'val_loss'])\n"
     ]
    },
    {
     "data": {
      "image/png": "[encoded data removed]",
      "text/plain": [
       "<Figure size 432x288 with 1 Axes>"
      ]
     },
     "metadata": {
      "needs_background": "light"
     },
     "output_type": "display_data"
    }
   ],
   "source": [
    "# Listar la historia\n",
    "print(history_imagenes.history.keys())\n",
    "# Generar gráficos\n",
    "plt.plot(history_imagenes.history['loss'])\n",
    "plt.plot(history_imagenes.history['val_loss'])\n",
    "plt.title('Loss - Modelo imágenes')\n",
    "plt.ylabel('loss')\n",
    "plt.xlabel('epoch')\n",
    "plt.legend(['train', 'val'], loc='upper left')\n",
    "plt.show()"
   ]
  },
  {
   "cell_type": "code",
   "execution_count": 32,
   "metadata": {},
   "outputs": [],
   "source": [
    "y_pred_img = cnn.predict(imagenes_val)"
   ]
  },
  {
   "cell_type": "code",
   "execution_count": 33,
   "metadata": {},
   "outputs": [
    {
     "data": {
      "text/plain": [
       "0.07562947196003858"
      ]
     },
     "execution_count": 33,
     "metadata": {},
     "output_type": "execute_result"
    }
   ],
   "source": [
    "error_promedio_imagenes = mean_absolute_error(y_val.values,y_pred_img)\n",
    "error_promedio_imagenes"
   ]
  },
  {
   "cell_type": "markdown",
   "metadata": {},
   "source": [
    "Y ahora entreno el modelo que utiliza como insumos datos tabulares y las fotos"
   ]
  },
  {
   "cell_type": "code",
   "execution_count": 34,
   "metadata": {},
   "outputs": [],
   "source": [
    "combinedInput = concatenate([mlp.output, cnn.output])\n",
    "x = Dense(1, activation=\"relu\")(combinedInput)\n",
    "x = Dense(1, activation=\"linear\")(x)"
   ]
  },
  {
   "cell_type": "code",
   "execution_count": 35,
   "metadata": {},
   "outputs": [
    {
     "name": "stdout",
     "output_type": "stream",
     "text": [
      "[INFO] Entrenando modelo multi input...\n",
      "Train on 1272 samples, validate on 319 samples\n",
      "Epoch 1/100\n",
      "1272/1272 [==============================] - 3s 2ms/sample - loss: 0.0912 - val_loss: 0.0786\n",
      "Epoch 2/100\n",
      "1272/1272 [==============================] - 2s 2ms/sample - loss: 0.0738 - val_loss: 0.0704\n",
      "Epoch 3/100\n",
      "1272/1272 [==============================] - 2s 2ms/sample - loss: 0.0726 - val_loss: 0.0679\n",
      "Epoch 4/100\n",
      "1272/1272 [==============================] - 2s 2ms/sample - loss: 0.0720 - val_loss: 0.0664\n",
      "Epoch 5/100\n",
      "1272/1272 [==============================] - 2s 2ms/sample - loss: 0.0703 - val_loss: 0.0654\n",
      "Epoch 6/100\n",
      "1272/1272 [==============================] - 2s 2ms/sample - loss: 0.0697 - val_loss: 0.0642\n",
      "Epoch 7/100\n",
      "1272/1272 [==============================] - 2s 2ms/sample - loss: 0.0683 - val_loss: 0.0640\n",
      "Epoch 8/100\n",
      "1272/1272 [==============================] - 2s 2ms/sample - loss: 0.0701 - val_loss: 0.0635\n",
      "Epoch 9/100\n",
      "1272/1272 [==============================] - 2s 2ms/sample - loss: 0.0679 - val_loss: 0.0634\n",
      "Epoch 10/100\n",
      "1272/1272 [==============================] - 2s 2ms/sample - loss: 0.0685 - val_loss: 0.0632\n",
      "Epoch 11/100\n",
      "1272/1272 [==============================] - 2s 2ms/sample - loss: 0.0675 - val_loss: 0.0633\n",
      "Epoch 12/100\n",
      "1272/1272 [==============================] - 2s 2ms/sample - loss: 0.0680 - val_loss: 0.0635\n",
      "Epoch 13/100\n",
      "1272/1272 [==============================] - 2s 2ms/sample - loss: 0.0673 - val_loss: 0.0629\n",
      "Epoch 14/100\n",
      "1272/1272 [==============================] - 2s 2ms/sample - loss: 0.0664 - val_loss: 0.0626\n",
      "Epoch 15/100\n",
      "1272/1272 [==============================] - 2s 2ms/sample - loss: 0.0689 - val_loss: 0.0628\n",
      "Epoch 16/100\n",
      "1272/1272 [==============================] - 2s 2ms/sample - loss: 0.0664 - val_loss: 0.0630\n",
      "Epoch 17/100\n",
      "1272/1272 [==============================] - 2s 2ms/sample - loss: 0.0665 - val_loss: 0.0631\n",
      "Epoch 18/100\n",
      "1272/1272 [==============================] - 2s 2ms/sample - loss: 0.0660 - val_loss: 0.0631\n",
      "Epoch 19/100\n",
      "1272/1272 [==============================] - 2s 2ms/sample - loss: 0.0661 - val_loss: 0.0630\n",
      "Epoch 20/100\n",
      "1272/1272 [==============================] - 2s 2ms/sample - loss: 0.0666 - val_loss: 0.0629\n",
      "Epoch 21/100\n",
      "1272/1272 [==============================] - 3s 2ms/sample - loss: 0.0656 - val_loss: 0.0629\n",
      "Epoch 22/100\n",
      "1272/1272 [==============================] - 3s 2ms/sample - loss: 0.0643 - val_loss: 0.0629\n",
      "Epoch 23/100\n",
      "1272/1272 [==============================] - 3s 3ms/sample - loss: 0.0650 - val_loss: 0.0625\n",
      "Epoch 24/100\n",
      "1272/1272 [==============================] - 3s 3ms/sample - loss: 0.0662 - val_loss: 0.0623\n",
      "Epoch 25/100\n",
      "1272/1272 [==============================] - 3s 3ms/sample - loss: 0.0666 - val_loss: 0.0622\n",
      "Epoch 26/100\n",
      "1272/1272 [==============================] - 3s 3ms/sample - loss: 0.0654 - val_loss: 0.0621\n",
      "Epoch 27/100\n",
      "1272/1272 [==============================] - 3s 2ms/sample - loss: 0.0662 - val_loss: 0.0621\n"
     ]
    }
   ],
   "source": [
    "model = Model(inputs=[mlp.input, cnn.input], outputs=x)\n",
    "\n",
    "opt = Adam(lr=1e-3,decay = 1e-2) # Hiperparametros\n",
    "callback = EarlyStopping(monitor='loss', patience=5) # No quiero gastar recursos innecesarios, con callback\n",
    "\n",
    "model.compile(loss=\"mean_absolute_error\", \n",
    "              optimizer=opt)\n",
    "\n",
    "# Entrenamos el modelo\n",
    "print(\"[INFO] Entrenando modelo multi input...\")\n",
    "history = model.fit(\n",
    "    x=[X_train_feat.values, imagenes_train], \n",
    "    y=y_train.values,\n",
    "    validation_data=([X_val_feat.values, imagenes_val], y_val.values),\n",
    "    epochs=100, \n",
    "    batch_size=8,\n",
    "    callbacks = [callback])\n"
   ]
  },
  {
   "cell_type": "code",
   "execution_count": 36,
   "metadata": {},
   "outputs": [
    {
     "name": "stdout",
     "output_type": "stream",
     "text": [
      "dict_keys(['loss', 'val_loss'])\n"
     ]
    },
    {
     "data": {
      "image/png": "[encoded data removed]",
      "text/plain": [
       "<Figure size 432x288 with 1 Axes>"
      ]
     },
     "metadata": {
      "needs_background": "light"
     },
     "output_type": "display_data"
    }
   ],
   "source": [
    "# Listar la historia\n",
    "print(history.history.keys())\n",
    "# Generar gráficos\n",
    "plt.plot(history.history['loss'])\n",
    "plt.plot(history.history['val_loss'])\n",
    "plt.title('Loss - Modelo mult iinput')\n",
    "plt.ylabel('loss')\n",
    "plt.xlabel('epoch')\n",
    "plt.legend(['train', 'val'], loc='upper left')\n",
    "plt.show()"
   ]
  },
  {
   "cell_type": "code",
   "execution_count": 37,
   "metadata": {},
   "outputs": [],
   "source": [
    "y_pred_mi = model.predict([X_val_feat.values, imagenes_val]).flatten()"
   ]
  },
  {
   "cell_type": "code",
   "execution_count": 38,
   "metadata": {},
   "outputs": [
    {
     "data": {
      "text/plain": [
       "0.06209250516512017"
      ]
     },
     "execution_count": 38,
     "metadata": {},
     "output_type": "execute_result"
    }
   ],
   "source": [
    "error_promedio_mi = mean_absolute_error(y_val.values,y_pred_mi)\n",
    "error_promedio_mi"
   ]
  },
  {
   "cell_type": "code",
   "execution_count": 39,
   "metadata": {},
   "outputs": [
    {
     "name": "stdout",
     "output_type": "stream",
     "text": [
      "El error absoluto promedio del modelo que solo usa imágenes es 0.0756.\n",
      "A su vez, el error absoluto promedio del modelo multi input es 0.0621.\n"
     ]
    }
   ],
   "source": [
    "print(f\"El error absoluto promedio del modelo que solo usa imágenes es {round(error_promedio_imagenes,4)}.\\n\\\n",
    "A su vez, el error absoluto promedio del modelo multi input es {round(error_promedio_mi,4)}.\" )"
   ]
  },
  {
   "cell_type": "code",
   "execution_count": 40,
   "metadata": {},
   "outputs": [],
   "source": [
    "X = pd.concat([X_train_feat,X_val_feat],axis=0)\n",
    "y = pd.DataFrame(pd.concat([y_train,y_val],axis=0),columns=['relative_amount'])\n",
    "data = pd.concat([X,y],axis=1)"
   ]
  },
  {
   "cell_type": "code",
   "execution_count": 41,
   "metadata": {},
   "outputs": [
    {
     "data": {
      "text/html": [
       "<div>\n",
       "<style scoped>\n",
       "    .dataframe tbody tr th:only-of-type {\n",
       "        vertical-align: middle;\n",
       "    }\n",
       "\n",
       "    .dataframe tbody tr th {\n",
       "        vertical-align: top;\n",
       "    }\n",
       "\n",
       "    .dataframe thead th {\n",
       "        text-align: right;\n",
       "    }\n",
       "</style>\n",
       "<table border=\"1\" class=\"dataframe\">\n",
       "  <thead>\n",
       "    <tr style=\"text-align: right;\">\n",
       "      <th></th>\n",
       "      <th>relative_max_cov</th>\n",
       "      <th>Cost_of_vehicle</th>\n",
       "      <th>dias_pendientes_cobertura</th>\n",
       "      <th>A</th>\n",
       "      <th>AA</th>\n",
       "      <th>AC</th>\n",
       "      <th>B</th>\n",
       "      <th>BB</th>\n",
       "      <th>BC</th>\n",
       "      <th>BQ</th>\n",
       "      <th>C</th>\n",
       "      <th>DA</th>\n",
       "      <th>O</th>\n",
       "      <th>RE</th>\n",
       "      <th>relative_amount</th>\n",
       "    </tr>\n",
       "  </thead>\n",
       "  <tbody>\n",
       "    <tr>\n",
       "      <th>198</th>\n",
       "      <td>0.252566</td>\n",
       "      <td>0.400000</td>\n",
       "      <td>0.014171</td>\n",
       "      <td>1</td>\n",
       "      <td>0</td>\n",
       "      <td>0</td>\n",
       "      <td>0</td>\n",
       "      <td>0</td>\n",
       "      <td>0</td>\n",
       "      <td>0</td>\n",
       "      <td>0</td>\n",
       "      <td>0</td>\n",
       "      <td>0</td>\n",
       "      <td>0</td>\n",
       "      <td>0.118158</td>\n",
       "    </tr>\n",
       "    <tr>\n",
       "      <th>1256</th>\n",
       "      <td>0.252532</td>\n",
       "      <td>0.410390</td>\n",
       "      <td>0.579854</td>\n",
       "      <td>0</td>\n",
       "      <td>0</td>\n",
       "      <td>1</td>\n",
       "      <td>0</td>\n",
       "      <td>0</td>\n",
       "      <td>0</td>\n",
       "      <td>0</td>\n",
       "      <td>0</td>\n",
       "      <td>0</td>\n",
       "      <td>0</td>\n",
       "      <td>0</td>\n",
       "      <td>0.014286</td>\n",
       "    </tr>\n",
       "    <tr>\n",
       "      <th>968</th>\n",
       "      <td>0.252005</td>\n",
       "      <td>0.620779</td>\n",
       "      <td>0.140942</td>\n",
       "      <td>1</td>\n",
       "      <td>0</td>\n",
       "      <td>0</td>\n",
       "      <td>0</td>\n",
       "      <td>0</td>\n",
       "      <td>0</td>\n",
       "      <td>0</td>\n",
       "      <td>0</td>\n",
       "      <td>0</td>\n",
       "      <td>0</td>\n",
       "      <td>0</td>\n",
       "      <td>0.089357</td>\n",
       "    </tr>\n",
       "    <tr>\n",
       "      <th>299</th>\n",
       "      <td>0.251477</td>\n",
       "      <td>0.981818</td>\n",
       "      <td>0.821907</td>\n",
       "      <td>0</td>\n",
       "      <td>0</td>\n",
       "      <td>0</td>\n",
       "      <td>0</td>\n",
       "      <td>0</td>\n",
       "      <td>0</td>\n",
       "      <td>0</td>\n",
       "      <td>1</td>\n",
       "      <td>0</td>\n",
       "      <td>0</td>\n",
       "      <td>0</td>\n",
       "      <td>0.009091</td>\n",
       "    </tr>\n",
       "    <tr>\n",
       "      <th>1000</th>\n",
       "      <td>0.252600</td>\n",
       "      <td>0.389610</td>\n",
       "      <td>0.592110</td>\n",
       "      <td>0</td>\n",
       "      <td>0</td>\n",
       "      <td>0</td>\n",
       "      <td>0</td>\n",
       "      <td>0</td>\n",
       "      <td>0</td>\n",
       "      <td>0</td>\n",
       "      <td>0</td>\n",
       "      <td>0</td>\n",
       "      <td>1</td>\n",
       "      <td>0</td>\n",
       "      <td>0.137367</td>\n",
       "    </tr>\n",
       "    <tr>\n",
       "      <th>...</th>\n",
       "      <td>...</td>\n",
       "      <td>...</td>\n",
       "      <td>...</td>\n",
       "      <td>...</td>\n",
       "      <td>...</td>\n",
       "      <td>...</td>\n",
       "      <td>...</td>\n",
       "      <td>...</td>\n",
       "      <td>...</td>\n",
       "      <td>...</td>\n",
       "      <td>...</td>\n",
       "      <td>...</td>\n",
       "      <td>...</td>\n",
       "      <td>...</td>\n",
       "      <td>...</td>\n",
       "    </tr>\n",
       "    <tr>\n",
       "      <th>347</th>\n",
       "      <td>0.252173</td>\n",
       "      <td>0.542857</td>\n",
       "      <td>0.888931</td>\n",
       "      <td>0</td>\n",
       "      <td>0</td>\n",
       "      <td>0</td>\n",
       "      <td>0</td>\n",
       "      <td>0</td>\n",
       "      <td>0</td>\n",
       "      <td>0</td>\n",
       "      <td>0</td>\n",
       "      <td>0</td>\n",
       "      <td>0</td>\n",
       "      <td>1</td>\n",
       "      <td>0.176797</td>\n",
       "    </tr>\n",
       "    <tr>\n",
       "      <th>811</th>\n",
       "      <td>0.253133</td>\n",
       "      <td>0.257143</td>\n",
       "      <td>0.588663</td>\n",
       "      <td>1</td>\n",
       "      <td>0</td>\n",
       "      <td>0</td>\n",
       "      <td>0</td>\n",
       "      <td>0</td>\n",
       "      <td>0</td>\n",
       "      <td>0</td>\n",
       "      <td>0</td>\n",
       "      <td>0</td>\n",
       "      <td>0</td>\n",
       "      <td>0</td>\n",
       "      <td>0.200000</td>\n",
       "    </tr>\n",
       "    <tr>\n",
       "      <th>792</th>\n",
       "      <td>0.252574</td>\n",
       "      <td>0.397403</td>\n",
       "      <td>0.682114</td>\n",
       "      <td>0</td>\n",
       "      <td>0</td>\n",
       "      <td>0</td>\n",
       "      <td>0</td>\n",
       "      <td>0</td>\n",
       "      <td>0</td>\n",
       "      <td>0</td>\n",
       "      <td>0</td>\n",
       "      <td>1</td>\n",
       "      <td>0</td>\n",
       "      <td>0</td>\n",
       "      <td>0.201023</td>\n",
       "    </tr>\n",
       "    <tr>\n",
       "      <th>935</th>\n",
       "      <td>0.252635</td>\n",
       "      <td>0.379221</td>\n",
       "      <td>0.721946</td>\n",
       "      <td>0</td>\n",
       "      <td>0</td>\n",
       "      <td>0</td>\n",
       "      <td>0</td>\n",
       "      <td>0</td>\n",
       "      <td>0</td>\n",
       "      <td>0</td>\n",
       "      <td>0</td>\n",
       "      <td>1</td>\n",
       "      <td>0</td>\n",
       "      <td>0</td>\n",
       "      <td>0.160203</td>\n",
       "    </tr>\n",
       "    <tr>\n",
       "      <th>1467</th>\n",
       "      <td>0.252699</td>\n",
       "      <td>0.361039</td>\n",
       "      <td>0.309460</td>\n",
       "      <td>0</td>\n",
       "      <td>0</td>\n",
       "      <td>0</td>\n",
       "      <td>0</td>\n",
       "      <td>0</td>\n",
       "      <td>0</td>\n",
       "      <td>0</td>\n",
       "      <td>1</td>\n",
       "      <td>0</td>\n",
       "      <td>0</td>\n",
       "      <td>0</td>\n",
       "      <td>0.054429</td>\n",
       "    </tr>\n",
       "  </tbody>\n",
       "</table>\n",
       "<p>1591 rows × 15 columns</p>\n",
       "</div>"
      ],
      "text/plain": [
       "      relative_max_cov  Cost_of_vehicle  dias_pendientes_cobertura  A  AA  AC  \\\n",
       "198           0.252566         0.400000                   0.014171  1   0   0   \n",
       "1256          0.252532         0.410390                   0.579854  0   0   1   \n",
       "968           0.252005         0.620779                   0.140942  1   0   0   \n",
       "299           0.251477         0.981818                   0.821907  0   0   0   \n",
       "1000          0.252600         0.389610                   0.592110  0   0   0   \n",
       "...                ...              ...                        ... ..  ..  ..   \n",
       "347           0.252173         0.542857                   0.888931  0   0   0   \n",
       "811           0.253133         0.257143                   0.588663  1   0   0   \n",
       "792           0.252574         0.397403                   0.682114  0   0   0   \n",
       "935           0.252635         0.379221                   0.721946  0   0   0   \n",
       "1467          0.252699         0.361039                   0.309460  0   0   0   \n",
       "\n",
       "      B  BB  BC  BQ  C  DA  O  RE  relative_amount  \n",
       "198   0   0   0   0  0   0  0   0         0.118158  \n",
       "1256  0   0   0   0  0   0  0   0         0.014286  \n",
       "968   0   0   0   0  0   0  0   0         0.089357  \n",
       "299   0   0   0   0  1   0  0   0         0.009091  \n",
       "1000  0   0   0   0  0   0  1   0         0.137367  \n",
       "...  ..  ..  ..  .. ..  .. ..  ..              ...  \n",
       "347   0   0   0   0  0   0  0   1         0.176797  \n",
       "811   0   0   0   0  0   0  0   0         0.200000  \n",
       "792   0   0   0   0  0   1  0   0         0.201023  \n",
       "935   0   0   0   0  0   1  0   0         0.160203  \n",
       "1467  0   0   0   0  1   0  0   0         0.054429  \n",
       "\n",
       "[1591 rows x 15 columns]"
      ]
     },
     "execution_count": 41,
     "metadata": {},
     "output_type": "execute_result"
    }
   ],
   "source": [
    "data"
   ]
  },
  {
   "cell_type": "markdown",
   "metadata": {},
   "source": [
    "## Conclusión"
   ]
  },
  {
   "cell_type": "markdown",
   "metadata": {},
   "source": [
    "Notar que, para este conjunto de datos, la línea base da mejores resultados que modelos más complejos. En concreto, de acuerdo al MAE, los resultados son:"
   ]
  },
  {
   "cell_type": "code",
   "execution_count": 42,
   "metadata": {},
   "outputs": [
    {
     "name": "stdout",
     "output_type": "stream",
     "text": [
      "Para el modelo Random Forest base, el MAE es 0.052138\n",
      "Para el modelo de que usa: imágenes (CNN), datos categóricos y numéricos (MLP), el MAE es 0.062093\n",
      "Para el modelo de Redes Neuronales (CNN) que solo usa imágenes, el MAE es 0.075629\n"
     ]
    }
   ],
   "source": [
    "print(f\"Para el modelo Random Forest base, el MAE es {round(error_promedio_rfr,6)}\")\n",
    "print(f\"Para el modelo de que usa: imágenes (CNN), datos categóricos y numéricos (MLP), el MAE es \\\n",
    "{round(error_promedio_mi,6)}\")\n",
    "print(f\"Para el modelo de Redes Neuronales (CNN) que solo usa imágenes, el MAE es {round(error_promedio_imagenes,6)}\")"
   ]
  },
  {
   "cell_type": "markdown",
   "metadata": {},
   "source": [
    "Revisaremos en detalle varias iteraciones de los modelos basados en redes neuronales, para confirmar si la diferencia es estadísticamente significativa en varias corridas. Por el momento la diferencia no es concluyente."
   ]
  },
  {
   "cell_type": "code",
   "execution_count": null,
   "metadata": {},
   "outputs": [],
   "source": []
  }
 ],
 "metadata": {
  "kernelspec": {
   "display_name": "conda_tensorflow2_p36",
   "language": "python",
   "name": "conda_tensorflow2_p36"
  },
  "language_info": {
   "codemirror_mode": {
    "name": "ipython",
    "version": 3
   },
   "file_extension": ".py",
   "mimetype": "text/x-python",
   "name": "python",
   "nbconvert_exporter": "python",
   "pygments_lexer": "ipython3",
   "version": "3.6.13"
  }
 },
 "nbformat": 4,
 "nbformat_minor": 4
}
