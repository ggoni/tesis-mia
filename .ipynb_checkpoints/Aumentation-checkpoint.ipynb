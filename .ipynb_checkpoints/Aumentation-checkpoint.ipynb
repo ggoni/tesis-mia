{
 "cells": [
  {
   "cell_type": "code",
   "execution_count": 1,
   "metadata": {},
   "outputs": [],
   "source": [
    "import pandas as pd\n",
    "import numpy as np\n",
    "import matplotlib.pyplot as plt\n",
    "from PIL import Image"
   ]
  },
  {
   "cell_type": "code",
   "execution_count": 2,
   "metadata": {},
   "outputs": [],
   "source": [
    "df = pd.read_csv('train_original.csv')"
   ]
  },
  {
   "cell_type": "code",
   "execution_count": 3,
   "metadata": {},
   "outputs": [
    {
     "data": {
      "text/html": [
       "<div>\n",
       "<style scoped>\n",
       "    .dataframe tbody tr th:only-of-type {\n",
       "        vertical-align: middle;\n",
       "    }\n",
       "\n",
       "    .dataframe tbody tr th {\n",
       "        vertical-align: top;\n",
       "    }\n",
       "\n",
       "    .dataframe thead th {\n",
       "        text-align: right;\n",
       "    }\n",
       "</style>\n",
       "<table border=\"1\" class=\"dataframe\">\n",
       "  <thead>\n",
       "    <tr style=\"text-align: right;\">\n",
       "      <th></th>\n",
       "      <th>Image_path</th>\n",
       "      <th>Insurance_company</th>\n",
       "      <th>Cost_of_vehicle</th>\n",
       "      <th>Min_coverage</th>\n",
       "      <th>Expiry_date</th>\n",
       "      <th>Max_coverage</th>\n",
       "      <th>Condition</th>\n",
       "      <th>Amount</th>\n",
       "    </tr>\n",
       "  </thead>\n",
       "  <tbody>\n",
       "    <tr>\n",
       "      <th>0</th>\n",
       "      <td>img_4513976.jpg</td>\n",
       "      <td>BQ</td>\n",
       "      <td>41500.0</td>\n",
       "      <td>1037.5</td>\n",
       "      <td>2026-12-03</td>\n",
       "      <td>36142.68</td>\n",
       "      <td>0</td>\n",
       "      <td>0.0</td>\n",
       "    </tr>\n",
       "    <tr>\n",
       "      <th>1</th>\n",
       "      <td>img_7764995.jpg</td>\n",
       "      <td>BQ</td>\n",
       "      <td>50700.0</td>\n",
       "      <td>1267.5</td>\n",
       "      <td>2025-07-10</td>\n",
       "      <td>12753.00</td>\n",
       "      <td>1</td>\n",
       "      <td>6194.0</td>\n",
       "    </tr>\n",
       "    <tr>\n",
       "      <th>2</th>\n",
       "      <td>img_451308.jpg</td>\n",
       "      <td>A</td>\n",
       "      <td>49500.0</td>\n",
       "      <td>1237.5</td>\n",
       "      <td>2022-08-11</td>\n",
       "      <td>43102.68</td>\n",
       "      <td>0</td>\n",
       "      <td>0.0</td>\n",
       "    </tr>\n",
       "    <tr>\n",
       "      <th>3</th>\n",
       "      <td>img_7768372.jpg</td>\n",
       "      <td>A</td>\n",
       "      <td>33500.0</td>\n",
       "      <td>837.5</td>\n",
       "      <td>2022-08-02</td>\n",
       "      <td>8453.00</td>\n",
       "      <td>1</td>\n",
       "      <td>7699.0</td>\n",
       "    </tr>\n",
       "    <tr>\n",
       "      <th>4</th>\n",
       "      <td>img_7765274.jpg</td>\n",
       "      <td>AC</td>\n",
       "      <td>27600.0</td>\n",
       "      <td>690.0</td>\n",
       "      <td>2026-05-01</td>\n",
       "      <td>6978.00</td>\n",
       "      <td>1</td>\n",
       "      <td>8849.0</td>\n",
       "    </tr>\n",
       "    <tr>\n",
       "      <th>...</th>\n",
       "      <td>...</td>\n",
       "      <td>...</td>\n",
       "      <td>...</td>\n",
       "      <td>...</td>\n",
       "      <td>...</td>\n",
       "      <td>...</td>\n",
       "      <td>...</td>\n",
       "      <td>...</td>\n",
       "    </tr>\n",
       "    <tr>\n",
       "      <th>1394</th>\n",
       "      <td>img_4637237.jpg</td>\n",
       "      <td>DA</td>\n",
       "      <td>52300.0</td>\n",
       "      <td>1307.5</td>\n",
       "      <td>2025-02-17</td>\n",
       "      <td>13153.00</td>\n",
       "      <td>1</td>\n",
       "      <td>4565.0</td>\n",
       "    </tr>\n",
       "    <tr>\n",
       "      <th>1395</th>\n",
       "      <td>img_4637000.jpg</td>\n",
       "      <td>BQ</td>\n",
       "      <td>41500.0</td>\n",
       "      <td>1037.5</td>\n",
       "      <td>2023-12-30</td>\n",
       "      <td>10453.00</td>\n",
       "      <td>1</td>\n",
       "      <td>3363.0</td>\n",
       "    </tr>\n",
       "    <tr>\n",
       "      <th>1396</th>\n",
       "      <td>img_4637503.jpg</td>\n",
       "      <td>AA</td>\n",
       "      <td>31400.0</td>\n",
       "      <td>785.0</td>\n",
       "      <td>2022-11-25</td>\n",
       "      <td>7928.00</td>\n",
       "      <td>1</td>\n",
       "      <td>5336.0</td>\n",
       "    </tr>\n",
       "    <tr>\n",
       "      <th>1397</th>\n",
       "      <td>img_4515101.jpg</td>\n",
       "      <td>A</td>\n",
       "      <td>33200.0</td>\n",
       "      <td>830.0</td>\n",
       "      <td>2022-10-10</td>\n",
       "      <td>8378.00</td>\n",
       "      <td>1</td>\n",
       "      <td>8734.0</td>\n",
       "    </tr>\n",
       "    <tr>\n",
       "      <th>1398</th>\n",
       "      <td>img_4636333.jpg</td>\n",
       "      <td>B</td>\n",
       "      <td>NaN</td>\n",
       "      <td>NaN</td>\n",
       "      <td>2024-10-30</td>\n",
       "      <td>NaN</td>\n",
       "      <td>1</td>\n",
       "      <td>NaN</td>\n",
       "    </tr>\n",
       "  </tbody>\n",
       "</table>\n",
       "<p>1399 rows × 8 columns</p>\n",
       "</div>"
      ],
      "text/plain": [
       "           Image_path Insurance_company  Cost_of_vehicle  Min_coverage  \\\n",
       "0     img_4513976.jpg                BQ          41500.0        1037.5   \n",
       "1     img_7764995.jpg                BQ          50700.0        1267.5   \n",
       "2      img_451308.jpg                 A          49500.0        1237.5   \n",
       "3     img_7768372.jpg                 A          33500.0         837.5   \n",
       "4     img_7765274.jpg                AC          27600.0         690.0   \n",
       "...               ...               ...              ...           ...   \n",
       "1394  img_4637237.jpg                DA          52300.0        1307.5   \n",
       "1395  img_4637000.jpg                BQ          41500.0        1037.5   \n",
       "1396  img_4637503.jpg                AA          31400.0         785.0   \n",
       "1397  img_4515101.jpg                 A          33200.0         830.0   \n",
       "1398  img_4636333.jpg                 B              NaN           NaN   \n",
       "\n",
       "     Expiry_date  Max_coverage  Condition  Amount  \n",
       "0     2026-12-03      36142.68          0     0.0  \n",
       "1     2025-07-10      12753.00          1  6194.0  \n",
       "2     2022-08-11      43102.68          0     0.0  \n",
       "3     2022-08-02       8453.00          1  7699.0  \n",
       "4     2026-05-01       6978.00          1  8849.0  \n",
       "...          ...           ...        ...     ...  \n",
       "1394  2025-02-17      13153.00          1  4565.0  \n",
       "1395  2023-12-30      10453.00          1  3363.0  \n",
       "1396  2022-11-25       7928.00          1  5336.0  \n",
       "1397  2022-10-10       8378.00          1  8734.0  \n",
       "1398  2024-10-30           NaN          1     NaN  \n",
       "\n",
       "[1399 rows x 8 columns]"
      ]
     },
     "execution_count": 3,
     "metadata": {},
     "output_type": "execute_result"
    }
   ],
   "source": [
    "df"
   ]
  },
  {
   "cell_type": "markdown",
   "metadata": {},
   "source": [
    "Defino función ad hoc para rotar las imágenes"
   ]
  },
  {
   "cell_type": "code",
   "execution_count": 4,
   "metadata": {},
   "outputs": [],
   "source": [
    "def genera_imagen_rotada(imagen,angulo):\n",
    "    nueva_im = imagen.rotate(angulo)\n",
    "    nombre_im = imagen.filename.replace('.jpg','')\n",
    "    nuevo_nombre_im = (nombre_im+'_'+str(angulo)+'.jpg').replace('trainResizedImages/','')\n",
    "    nueva_im.save(nuevo_nombre_im)\n",
    "    return nuevo_nombre_im"
   ]
  },
  {
   "cell_type": "code",
   "execution_count": 5,
   "metadata": {},
   "outputs": [
    {
     "data": {
      "text/plain": [
       "(200, 310)"
      ]
     },
     "execution_count": 5,
     "metadata": {},
     "output_type": "execute_result"
    }
   ],
   "source": [
    "imagen = Image.open('trainResizedImages/img_45123.jpg')\n",
    "imagen.size"
   ]
  },
  {
   "cell_type": "code",
   "execution_count": 6,
   "metadata": {},
   "outputs": [
    {
     "data": {
      "text/plain": [
       "'img_45123_270.jpg'"
      ]
     },
     "execution_count": 6,
     "metadata": {},
     "output_type": "execute_result"
    }
   ],
   "source": [
    "genera_imagen_rotada(imagen,270)"
   ]
  },
  {
   "cell_type": "code",
   "execution_count": 8,
   "metadata": {
    "scrolled": false
   },
   "outputs": [],
   "source": [
    "df_new = pd.DataFrame()\n",
    "new_rows = []\n",
    "for index, row in df.iterrows():\n",
    "    if row['Amount']==0: # Si el monto de daño es nulo\n",
    "        im = Image.open('trainResizedImages/'+row['Image_path'])\n",
    "        for angulo in [90,180,270]:\n",
    "            new_row = row\n",
    "            new_row['Image_path']= genera_imagen_rotada(im,angulo)\n",
    "            df_new = pd.concat([df_new,pd.DataFrame(new_row).T])  "
   ]
  },
  {
   "cell_type": "code",
   "execution_count": 9,
   "metadata": {},
   "outputs": [
    {
     "data": {
      "text/plain": [
       "1399"
      ]
     },
     "execution_count": 9,
     "metadata": {},
     "output_type": "execute_result"
    }
   ],
   "source": [
    "len(df)"
   ]
  },
  {
   "cell_type": "code",
   "execution_count": 10,
   "metadata": {},
   "outputs": [
    {
     "data": {
      "text/plain": [
       "297"
      ]
     },
     "execution_count": 10,
     "metadata": {},
     "output_type": "execute_result"
    }
   ],
   "source": [
    "len(df_new)"
   ]
  },
  {
   "cell_type": "code",
   "execution_count": 11,
   "metadata": {},
   "outputs": [],
   "source": [
    "df_edit = pd.concat([df_new,df]).sort_values(by='Image_path')"
   ]
  },
  {
   "cell_type": "code",
   "execution_count": 12,
   "metadata": {},
   "outputs": [],
   "source": [
    "df_edit.to_csv('train.csv',index=False)"
   ]
  },
  {
   "cell_type": "code",
   "execution_count": null,
   "metadata": {},
   "outputs": [],
   "source": []
  }
 ],
 "metadata": {
  "kernelspec": {
   "display_name": "Python 3",
   "language": "python",
   "name": "python3"
  },
  "language_info": {
   "codemirror_mode": {
    "name": "ipython",
    "version": 3
   },
   "file_extension": ".py",
   "mimetype": "text/x-python",
   "name": "python",
   "nbconvert_exporter": "python",
   "pygments_lexer": "ipython3",
   "version": "3.7.7"
  }
 },
 "nbformat": 4,
 "nbformat_minor": 4
}
